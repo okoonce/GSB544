{
  "cells": [
    {
      "cell_type": "raw",
      "metadata": {
        "vscode": {
          "languageId": "raw"
        }
      },
      "source": [
        "---\n",
        "title: Lab 3\n",
        "author: Owen Koonce\n",
        "format:\n",
        "    html:\n",
        "        toc: true\n",
        "theme: flatly\n",
        "embed-resources: true\n",
        "---"
      ]
    },
    {
      "cell_type": "code",
      "execution_count": 1,
      "metadata": {
        "id": "O-8qDAh3AXlK"
      },
      "outputs": [],
      "source": [
        "import pandas as pd\n",
        "xmas = pd.read_csv(\"https://www.dropbox.com/scl/fi/qxaslqqp5p08i1650rpc4/xmas.csv?rlkey=erdxi7jbh7pqf9fh4lv4cayp5&dl=1\")"
      ]
    },
    {
      "cell_type": "code",
      "execution_count": 2,
      "metadata": {
        "id": "neOMbrUpZazG"
      },
      "outputs": [],
      "source": [
        "xmas = xmas.rename(columns={'Day.in.Words': 'Ordinal.Day'})"
      ]
    },
    {
      "cell_type": "code",
      "execution_count": 3,
      "metadata": {
        "id": "5QsIsEh1aygp"
      },
      "outputs": [],
      "source": [
        "xmas['Day.in.Words'] = [\"one\", \"two\", \"three\", \"four\", \"five\", \"six\", \"seven\", \"eight\", \"nine\", \"ten\", \"eleven\", \"twelve\"]"
      ]
    },
    {
      "cell_type": "markdown",
      "metadata": {
        "id": "ldSGvBG-K29s"
      },
      "source": [
        "## Function 1"
      ]
    },
    {
      "cell_type": "code",
      "execution_count": 5,
      "metadata": {
        "id": "bGoxjttcK2r8"
      },
      "outputs": [],
      "source": [
        "def pluralize_gift(gift):\n",
        "    \"\"\"\n",
        "    Returns the plural of a noun or a list/Series of pluralized nouns.\n",
        "\n",
        "    Parameters\n",
        "    ----------\n",
        "    gift: str, list, or pd.Series\n",
        "        A single noun, a list of nouns, or a pandas Series to pluralize.\n",
        "\n",
        "    Return\n",
        "    ------\n",
        "    str, list, or pd.Series\n",
        "        The plural version of the noun, or a list/Series of pluralized nouns.\n",
        "    \"\"\"\n",
        "\n",
        "    # Helper function to pluralize a single gift item\n",
        "    def pluralize_item(gift):\n",
        "        if \"oo\" in gift:\n",
        "            return gift.replace(\"oo\", \"ee\")\n",
        "        elif gift.endswith(\"y\"):\n",
        "            return gift[:-1] + \"ies\"\n",
        "        else:\n",
        "            return gift + 's'\n",
        "\n",
        "    # Check if the input is a single string (noun)\n",
        "    if isinstance(gift, str):\n",
        "        return pluralize_item(gift)\n",
        "\n",
        "    # If input is a pandas Series, use the apply method\n",
        "    elif isinstance(gift, pd.Series):\n",
        "        return gift.apply(pluralize_item)"
      ]
    },
    {
      "cell_type": "code",
      "execution_count": 6,
      "metadata": {
        "colab": {
          "base_uri": "https://localhost:8080/",
          "height": 36
        },
        "id": "tAxyp8Tg5n2C",
        "outputId": "7dd880c9-0829-4ccd-a518-13000718e7e3"
      },
      "outputs": [
        {
          "data": {
            "text/plain": [
              "'geese'"
            ]
          },
          "execution_count": null,
          "metadata": {},
          "output_type": "execute_result"
        }
      ],
      "source": [
        "# Should work\n",
        "pluralize_gift(\"goose\")"
      ]
    },
    {
      "cell_type": "code",
      "execution_count": 7,
      "metadata": {
        "colab": {
          "base_uri": "https://localhost:8080/",
          "height": 460
        },
        "id": "kPIM9zdR8z6u",
        "outputId": "9a0a52cd-ef48-4cb8-97e9-eaa8639adb79"
      },
      "outputs": [
        {
          "data": {
            "text/plain": [
              "0     partridges\n",
              "1          doves\n",
              "2           hens\n",
              "3          birds\n",
              "4          rings\n",
              "5          geese\n",
              "6          swans\n",
              "7          maids\n",
              "8         ladies\n",
              "9          lords\n",
              "10        pipers\n",
              "11      drummers\n",
              "Name: Gift.Item, dtype: object"
            ]
          },
          "execution_count": null,
          "metadata": {},
          "output_type": "execute_result"
        }
      ],
      "source": [
        "# Will work if your function is vectorized!\n",
        "pluralize_gift(xmas['Gift.Item'])"
      ]
    },
    {
      "cell_type": "markdown",
      "metadata": {
        "id": "UCSrU62983Wk"
      },
      "source": [
        "## Function 2"
      ]
    },
    {
      "cell_type": "code",
      "execution_count": 8,
      "metadata": {
        "id": "ADx9-sY79MY4"
      },
      "outputs": [],
      "source": [
        "def make_phrase(num, num_word, item, verb=None, adjective=None, location=None):\n",
        "  \"\"\"\n",
        "    Returns a phrase with the given parameters\n",
        "\n",
        "    Parameters\n",
        "    ----------\n",
        "    num: int\n",
        "\n",
        "    num_word: str\n",
        "\n",
        "    item: str\n",
        "\n",
        "    verb: str\n",
        "\n",
        "    adjective: str\n",
        "\n",
        "    location: str\n",
        "\n",
        "    Return\n",
        "    ------\n",
        "    str\n",
        "        The phrase with the given parameters as a string.\n",
        "\n",
        "    \"\"\"\n",
        "\n",
        "  ## Step 1: Replace NAs with blank strings\n",
        "  if pd.isna(verb):\n",
        "      verb = \"\"\n",
        "  if pd.isna(adjective):\n",
        "      adjective = \"\"\n",
        "  if pd.isna(location):\n",
        "      location = \"\"\n",
        "\n",
        "  ## Step 2: If the day number is larger than 1, the gift items need pluralized!\n",
        "  ### Hint: call the function you created above!\n",
        "  if num > 1:\n",
        "    item = pluralize_gift(item)\n",
        "\n",
        "  ## Step 3: Figure out if a gift item starts with a vowel\n",
        "  starts_with_vowel = item[0].lower() in 'aeiou'\n",
        "\n",
        "  ## Step 4: For the first day, determine the correct article (\"a\" or \"an\")\n",
        "  if num == 1:\n",
        "    article = \"an\" if starts_with_vowel else \"a\"\n",
        "  else:\n",
        "    article = num_word\n",
        "\n",
        "  ## Step 5: Put all of the pieces together into one string using map\n",
        "  components = [article, adjective, item, verb, location]\n",
        "  phrase = ' '.join(filter(bool, map(str.strip, components)))\n",
        "  return phrase"
      ]
    },
    {
      "cell_type": "code",
      "execution_count": 9,
      "metadata": {
        "colab": {
          "base_uri": "https://localhost:8080/",
          "height": 36
        },
        "id": "6WxHHYuoMdFe",
        "outputId": "edd0982d-6a88-45b0-a8d3-f4436c047245"
      },
      "outputs": [
        {
          "data": {
            "text/plain": [
              "'five golden rings'"
            ]
          },
          "execution_count": null,
          "metadata": {},
          "output_type": "execute_result"
        }
      ],
      "source": [
        "# test function\n",
        "make_phrase(5, \"five\", \"ring\", adjective=\"golden\")"
      ]
    },
    {
      "cell_type": "code",
      "execution_count": 10,
      "metadata": {
        "colab": {
          "base_uri": "https://localhost:8080/",
          "height": 36
        },
        "id": "0tjMs-VoQ6zl",
        "outputId": "188119cc-4292-41e3-d256-08ee3d5397d3"
      },
      "outputs": [
        {
          "data": {
            "text/plain": [
              "'ten lords a-leaping'"
            ]
          },
          "execution_count": null,
          "metadata": {},
          "output_type": "execute_result"
        }
      ],
      "source": [
        "# test function\n",
        "make_phrase(10, \"ten\", \"lord\", verb=\"a-leaping\")"
      ]
    },
    {
      "cell_type": "code",
      "execution_count": 11,
      "metadata": {
        "id": "GYJyY6RqRLT0"
      },
      "outputs": [],
      "source": [
        "# make new column called 'Full.Phrase'\n",
        "xmas['Full.Phrase'] = xmas.apply(lambda row: make_phrase(row['Day'], row['Day.in.Words'], row['Gift.Item'], row['Verb'], row['Adjective'], row['Location']), axis=1)"
      ]
    },
    {
      "cell_type": "markdown",
      "metadata": {
        "id": "9HQJ56OYUKZT"
      },
      "source": [
        "## Function 3"
      ]
    },
    {
      "cell_type": "code",
      "execution_count": 12,
      "metadata": {
        "id": "5Ksl2f7RULr4"
      },
      "outputs": [],
      "source": [
        "def sing_day(dataset, num, phrase_col):\n",
        "  \"\"\"\n",
        "  Returns the all lyrics associated with a day\n",
        "  Parameters\n",
        "  ----------\n",
        "  dataset: pd.Dataframe\n",
        "\n",
        "  num: int\n",
        "\n",
        "  Gift.Item: str\n",
        "\n",
        "  Return\n",
        "  ------\n",
        "  str\n",
        "  \"\"\"\n",
        "\n",
        "  # Step 1: Setup the intro line\n",
        "  num_word = dataset.loc[dataset['Day'] == num, 'Ordinal.Day'].iloc[0]\n",
        "  intro = \"On the \" + num_word + \" day of Christmas, my true love sent to me:\\n\"\n",
        "\n",
        "  # Step 2: Sing the gift phrases\n",
        "  # Hint: What order are they gifts sung in each day?\n",
        "  def phrase(i):\n",
        "    return dataset.loc[dataset['Day'] == i, 'Full.Phrase'].values[0]\n",
        "\n",
        "  gifts_list = list(map(phrase, range(num, 0, -1)))\n",
        "  if num > 1:\n",
        "    gifts_list[-1] = \"and \" + gifts_list[-1]\n",
        "\n",
        "  gifts = \"\\n\".join(gifts_list)\n",
        "\n",
        "    # Step 3: Put it all together and return\n",
        "  return intro + gifts.strip() + \".\""
      ]
    },
    {
      "cell_type": "code",
      "execution_count": 13,
      "metadata": {
        "colab": {
          "base_uri": "https://localhost:8080/"
        },
        "id": "0r8sXxu9hsRF",
        "outputId": "e098b64b-da71-40c6-d861-5e767b92c8f3"
      },
      "outputs": [
        {
          "name": "stdout",
          "output_type": "stream",
          "text": [
            "On the third day of Christmas, my true love sent to me:\n",
            "three french hens\n",
            "two turtle doves\n",
            "and a partridge in a pear tree.\n",
            "On the third day of Christmas, my true love sent to me:\n",
            "three french hens\n",
            "two turtle doves\n",
            "and a partridge in a pear tree.\n"
          ]
        }
      ],
      "source": [
        "print(sing_day(xmas, 3, \"Full.Phrase\"))"
      ]
    },
    {
      "cell_type": "code",
      "execution_count": 14,
      "metadata": {
        "colab": {
          "base_uri": "https://localhost:8080/"
        },
        "id": "vDkezScflD2h",
        "outputId": "18800de9-28b4-4d70-d468-16386aa4849a"
      },
      "outputs": [
        {
          "name": "stdout",
          "output_type": "stream",
          "text": [
            "On the twelfth day of Christmas, my true love sent to me:\n",
            "twelve drummers drumming\n",
            "eleven pipers piping\n",
            "ten lords a-leaping\n",
            "nine ladies dancing\n",
            "eight maids a-milking\n",
            "seven swans a-swimming\n",
            "six geese a-laying\n",
            "five golden rings\n",
            "four calling birds\n",
            "three french hens\n",
            "two turtle doves\n",
            "and a partridge in a pear tree.\n",
            "On the twelfth day of Christmas, my true love sent to me:\n",
            "twelve drummers drumming\n",
            "eleven pipers piping\n",
            "ten lords a-leaping\n",
            "nine ladies dancing\n",
            "eight maids a-milking\n",
            "seven swans a-swimming\n",
            "six geese a-laying\n",
            "five golden rings\n",
            "four calling birds\n",
            "three french hens\n",
            "two turtle doves\n",
            "and a partridge in a pear tree.\n"
          ]
        }
      ],
      "source": [
        "print(sing_day(xmas, 12, \"Full.Phrase\"))"
      ]
    },
    {
      "cell_type": "markdown",
      "metadata": {
        "id": "8WQNWt1Eqlj0"
      },
      "source": [
        "## xmas2"
      ]
    },
    {
      "cell_type": "code",
      "execution_count": 15,
      "metadata": {
        "id": "uNz5UgL5lPXB"
      },
      "outputs": [],
      "source": [
        "xmas2 = pd.read_csv(\"https://www.dropbox.com/scl/fi/p9x9k8xwuzs9rhp582vfy/xmas_2.csv?rlkey=kvc3j3lmyn4opcidsrhcmrof1&dl=1\")"
      ]
    },
    {
      "cell_type": "code",
      "execution_count": 16,
      "metadata": {
        "id": "9c5sfciBpA1b"
      },
      "outputs": [],
      "source": [
        "xmas2 = xmas2.rename(columns={'Day.in.Words': 'Ordinal.Day'})"
      ]
    },
    {
      "cell_type": "code",
      "execution_count": 17,
      "metadata": {
        "id": "nUnGX-hJpRRm"
      },
      "outputs": [],
      "source": [
        "xmas2['Day.in.Words'] = [\"one\", \"two\", \"three\", \"four\", \"five\", \"six\", \"seven\", \"eight\", \"nine\", \"ten\", \"eleven\", \"twelve\"]"
      ]
    },
    {
      "cell_type": "code",
      "execution_count": 18,
      "metadata": {
        "colab": {
          "base_uri": "https://localhost:8080/",
          "height": 460
        },
        "id": "s5OO3ZkCosYx",
        "outputId": "cb672586-5a8c-494b-9b2b-fb1ecb8e9e45"
      },
      "outputs": [
        {
          "data": {
            "text/plain": [
              "0      emails\n",
              "1      points\n",
              "2        pens\n",
              "3     reviews\n",
              "4       exams\n",
              "5     graders\n",
              "6     seniors\n",
              "7        moms\n",
              "8     parties\n",
              "9       loads\n",
              "10    friends\n",
              "11      hours\n",
              "Name: Gift.Item, dtype: object"
            ]
          },
          "execution_count": null,
          "metadata": {},
          "output_type": "execute_result"
        }
      ],
      "source": [
        "pluralize_gift(xmas2['Gift.Item'])"
      ]
    },
    {
      "cell_type": "code",
      "execution_count": 19,
      "metadata": {
        "id": "R8eoJsoKqGjR"
      },
      "outputs": [],
      "source": [
        "xmas2['Full.Phrase'] = xmas2.apply(lambda row: make_phrase(row['Day'], row['Day.in.Words'], row['Gift.Item'], row['Verb'], row['Adjective'], row['Location']), axis=1)\n"
      ]
    },
    {
      "cell_type": "code",
      "execution_count": 20,
      "metadata": {
        "colab": {
          "base_uri": "https://localhost:8080/"
        },
        "id": "LBtPAfMMqSRy",
        "outputId": "e5a031b2-218e-4b53-bb99-236c343af034"
      },
      "outputs": [
        {
          "name": "stdout",
          "output_type": "stream",
          "text": [
            "On the twelfth day of Christmas, my true love sent to me:\n",
            "twelve hours sleeping\n",
            "eleven friends goodbye-ing\n",
            "ten loads of laundry\n",
            "nine parties bumping\n",
            "eight moms a-calling\n",
            "seven seniors stressing\n",
            "six graders grading\n",
            "five practice exams\n",
            "four course reviews\n",
            "three lost pens\n",
            "two meal points\n",
            "and an email from Cal Poly.\n",
            "On the twelfth day of Christmas, my true love sent to me:\n",
            "twelve hours sleeping\n",
            "eleven friends goodbye-ing\n",
            "ten loads of laundry\n",
            "nine parties bumping\n",
            "eight moms a-calling\n",
            "seven seniors stressing\n",
            "six graders grading\n",
            "five practice exams\n",
            "four course reviews\n",
            "three lost pens\n",
            "two meal points\n",
            "and an email from Cal Poly.\n"
          ]
        }
      ],
      "source": [
        "print(sing_day(xmas2, 12, \"Full.Phrase\"))"
      ]
    }
  ],
  "metadata": {
    "colab": {
      "provenance": []
    },
    "kernelspec": {
      "display_name": "Python 3",
      "name": "python3"
    },
    "language_info": {
      "codemirror_mode": {
        "name": "ipython",
        "version": 3
      },
      "file_extension": ".py",
      "mimetype": "text/x-python",
      "name": "python",
      "nbconvert_exporter": "python",
      "pygments_lexer": "ipython3",
      "version": "3.12.4"
    }
  },
  "nbformat": 4,
  "nbformat_minor": 0
}
